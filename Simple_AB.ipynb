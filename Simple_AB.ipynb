{
 "cells": [
  {
   "cell_type": "markdown",
   "metadata": {
    "id": "_NV_sDMsyNxJ"
   },
   "source": [
    "# Imports "
   ]
  },
  {
   "cell_type": "code",
   "execution_count": null,
   "metadata": {
    "id": "-U936-Ndyeiu"
   },
   "outputs": [],
   "source": [
    "import pandas as pd \n",
    "import numpy as np\n",
    "import matplotlib.pyplot as plt"
   ]
  },
  {
   "cell_type": "markdown",
   "metadata": {
    "id": "NpfjdwJPIrzx"
   },
   "source": [
    "# Data"
   ]
  },
  {
   "cell_type": "code",
   "execution_count": null,
   "metadata": {
    "id": "V-l59lnmIsvS"
   },
   "outputs": [],
   "source": [
    "marketing = pd.read_csv(\"./Data/data_cleaned.csv\",index_col=0,parse_dates=['date_served','date_subscribed','date_canceled'])"
   ]
  },
  {
   "cell_type": "code",
   "execution_count": null,
   "metadata": {
    "colab": {
     "base_uri": "https://localhost:8080/",
     "height": 194
    },
    "executionInfo": {
     "elapsed": 128,
     "status": "ok",
     "timestamp": 1637626483644,
     "user": {
      "displayName": "Chuck Lenny",
      "photoUrl": "https://lh3.googleusercontent.com/a/default-user=s64",
      "userId": "18406008629121395867"
     },
     "user_tz": 300
    },
    "id": "uDvxJHZJJDIs",
    "outputId": "f30218d1-0e63-49a0-d2de-712c1945bced"
   },
   "outputs": [
    {
     "data": {
      "text/html": [
       "<div>\n",
       "<style scoped>\n",
       "    .dataframe tbody tr th:only-of-type {\n",
       "        vertical-align: middle;\n",
       "    }\n",
       "\n",
       "    .dataframe tbody tr th {\n",
       "        vertical-align: top;\n",
       "    }\n",
       "\n",
       "    .dataframe thead th {\n",
       "        text-align: right;\n",
       "    }\n",
       "</style>\n",
       "<table border=\"1\" class=\"dataframe\">\n",
       "  <thead>\n",
       "    <tr style=\"text-align: right;\">\n",
       "      <th></th>\n",
       "      <th>user_id</th>\n",
       "      <th>date_served</th>\n",
       "      <th>marketing_channel</th>\n",
       "      <th>variant</th>\n",
       "      <th>converted</th>\n",
       "      <th>language_displayed</th>\n",
       "      <th>language_preferred</th>\n",
       "      <th>age_group</th>\n",
       "      <th>date_subscribed</th>\n",
       "      <th>date_canceled</th>\n",
       "      <th>subscribing_channel</th>\n",
       "      <th>is_retained</th>\n",
       "      <th>DoW</th>\n",
       "      <th>is_correct_lang</th>\n",
       "    </tr>\n",
       "  </thead>\n",
       "  <tbody>\n",
       "    <tr>\n",
       "      <th>0</th>\n",
       "      <td>a100000029</td>\n",
       "      <td>2018-01-01</td>\n",
       "      <td>House Ads</td>\n",
       "      <td>personalization</td>\n",
       "      <td>True</td>\n",
       "      <td>English</td>\n",
       "      <td>English</td>\n",
       "      <td>0-18 years</td>\n",
       "      <td>2018-01-01</td>\n",
       "      <td>NaT</td>\n",
       "      <td>House Ads</td>\n",
       "      <td>True</td>\n",
       "      <td>0.0</td>\n",
       "      <td>Yes</td>\n",
       "    </tr>\n",
       "    <tr>\n",
       "      <th>1</th>\n",
       "      <td>a100000030</td>\n",
       "      <td>2018-01-01</td>\n",
       "      <td>House Ads</td>\n",
       "      <td>personalization</td>\n",
       "      <td>True</td>\n",
       "      <td>English</td>\n",
       "      <td>English</td>\n",
       "      <td>19-24 years</td>\n",
       "      <td>2018-01-01</td>\n",
       "      <td>NaT</td>\n",
       "      <td>House Ads</td>\n",
       "      <td>True</td>\n",
       "      <td>0.0</td>\n",
       "      <td>Yes</td>\n",
       "    </tr>\n",
       "    <tr>\n",
       "      <th>2</th>\n",
       "      <td>a100000031</td>\n",
       "      <td>2018-01-01</td>\n",
       "      <td>House Ads</td>\n",
       "      <td>personalization</td>\n",
       "      <td>True</td>\n",
       "      <td>English</td>\n",
       "      <td>English</td>\n",
       "      <td>24-30 years</td>\n",
       "      <td>2018-01-01</td>\n",
       "      <td>NaT</td>\n",
       "      <td>House Ads</td>\n",
       "      <td>True</td>\n",
       "      <td>0.0</td>\n",
       "      <td>Yes</td>\n",
       "    </tr>\n",
       "  </tbody>\n",
       "</table>\n",
       "</div>"
      ],
      "text/plain": [
       "      user_id date_served marketing_channel  ... is_retained  DoW is_correct_lang\n",
       "0  a100000029  2018-01-01         House Ads  ...        True  0.0             Yes\n",
       "1  a100000030  2018-01-01         House Ads  ...        True  0.0             Yes\n",
       "2  a100000031  2018-01-01         House Ads  ...        True  0.0             Yes\n",
       "\n",
       "[3 rows x 14 columns]"
      ]
     },
     "execution_count": 7,
     "metadata": {},
     "output_type": "execute_result"
    }
   ],
   "source": [
    "marketing.head(3)"
   ]
  },
  {
   "cell_type": "markdown",
   "metadata": {
    "id": "asHCukxBzrLc"
   },
   "source": [
    "# Notes"
   ]
  },
  {
   "cell_type": "markdown",
   "metadata": {
    "id": "eWl4QUepzuGR"
   },
   "source": [
    "**A/B Testing** tests the impact of a decision on a particular metric \n",
    "\n",
    "Procedure:\n",
    "\n",
    "1. Determine hypothesis and the desired outcome of the test (increase conversion rates by personalizing emails)\n",
    "\n",
    "2. What is the metric you're trying to impact? \n",
    "\n",
    "3. Will we get enough traffic to our site to reach statistical significance and make a decision in a timely manner "
   ]
  },
  {
   "cell_type": "markdown",
   "metadata": {
    "id": "cuU3SyHU0KZC"
   },
   "source": [
    "The email portion of this campaign was actually run as an A/B test. Half the emails sent out were generic upsells to your product while the other half contained personalized messaging around the users’ usage of the site."
   ]
  },
  {
   "cell_type": "markdown",
   "metadata": {
    "id": "RFofentI3vj6"
   },
   "source": [
    "The **Lift** is the percentage increase in conversion (any metric) of the treatment vs the control i.e. (treat conv - contr conv)/(contr conv)"
   ]
  },
  {
   "cell_type": "markdown",
   "metadata": {
    "id": "yxGCF6sL1L87"
   },
   "source": [
    "# Test Allocation"
   ]
  },
  {
   "cell_type": "code",
   "execution_count": null,
   "metadata": {
    "colab": {
     "base_uri": "https://localhost:8080/",
     "height": 362
    },
    "executionInfo": {
     "elapsed": 366,
     "status": "ok",
     "timestamp": 1637626542587,
     "user": {
      "displayName": "Chuck Lenny",
      "photoUrl": "https://lh3.googleusercontent.com/a/default-user=s64",
      "userId": "18406008629121395867"
     },
     "user_tz": 300
    },
    "id": "N8qbpwF01Nmq",
    "outputId": "77a7565d-b4e8-402b-af73-0cbe987bb92a"
   },
   "outputs": [
    {
     "data": {
      "image/png": "[encoded data removed]",
      "text/plain": [
       "<Figure size 432x288 with 1 Axes>"
      ]
     },
     "metadata": {
      "needs_background": "light"
     },
     "output_type": "display_data"
    }
   ],
   "source": [
    "# Subset the DataFrame\n",
    "email = marketing[marketing.marketing_channel == 'Email']\n",
    "\n",
    "# Group the email DataFrame by variant \n",
    "alloc = email.groupby('variant')['user_id'].nunique()\n",
    "\n",
    "# Plot a bar chart of the test allocation\n",
    "alloc.plot(kind='bar')\n",
    "plt.title('Personalization test allocation')\n",
    "plt.ylabel('# participants')\n",
    "plt.show()"
   ]
  },
  {
   "cell_type": "markdown",
   "metadata": {
    "id": "U1PconUB1_mN"
   },
   "source": [
    "There is a slight difference in allocation but its within reason (is explained by randomness). There is a statistical test that should be run to check this"
   ]
  },
  {
   "cell_type": "markdown",
   "metadata": {
    "id": "sUcP_pub3hPP"
   },
   "source": [
    "# Compare Conversion Rates"
   ]
  },
  {
   "cell_type": "code",
   "execution_count": null,
   "metadata": {
    "colab": {
     "base_uri": "https://localhost:8080/"
    },
    "executionInfo": {
     "elapsed": 7,
     "status": "ok",
     "timestamp": 1637626542587,
     "user": {
      "displayName": "Chuck Lenny",
      "photoUrl": "https://lh3.googleusercontent.com/a/default-user=s64",
      "userId": "18406008629121395867"
     },
     "user_tz": 300
    },
    "id": "TVi1fB3G3kqp",
    "outputId": "d6fb6e97-103e-408a-9dcb-a4fdeca9f66f"
   },
   "outputs": [
    {
     "name": "stdout",
     "output_type": "stream",
     "text": [
      "Control conversion rate: 0.2814814814814815\n",
      "Personalization conversion rate: 0.3908450704225352\n"
     ]
    }
   ],
   "source": [
    "# Group marketing by user_id and variant\n",
    "subscribers = email.groupby(['user_id', \n",
    "                             'variant'])['converted'].max()\n",
    "subscribers_df = pd.DataFrame(subscribers.unstack(level=1)) \n",
    "\n",
    "# Drop missing values from the control column\n",
    "control = subscribers_df['control'].dropna()\n",
    "\n",
    "# Drop missing values from the personalization column\n",
    "personalization = subscribers_df['personalization'].dropna()\n",
    "\n",
    "print('Control conversion rate:', control.mean())\n",
    "print('Personalization conversion rate:', personalization.mean())"
   ]
  },
  {
   "cell_type": "markdown",
   "metadata": {
    "id": "NZbXlLcE5jnh"
   },
   "source": [
    "## Lift"
   ]
  },
  {
   "cell_type": "code",
   "execution_count": null,
   "metadata": {
    "colab": {
     "base_uri": "https://localhost:8080/"
    },
    "executionInfo": {
     "elapsed": 5,
     "status": "ok",
     "timestamp": 1637626542588,
     "user": {
      "displayName": "Chuck Lenny",
      "photoUrl": "https://lh3.googleusercontent.com/a/default-user=s64",
      "userId": "18406008629121395867"
     },
     "user_tz": 300
    },
    "id": "u5SnHwkT5a1z",
    "outputId": "2deae736-e0c4-4286-8b15-466bb1b377f0"
   },
   "outputs": [
    {
     "name": "stdout",
     "output_type": "stream",
     "text": [
      "38.85%\n"
     ]
    }
   ],
   "source": [
    "def lift(a,b):\n",
    "    # Calcuate the mean of a and b\n",
    "    a_mean = np.mean(a)\n",
    "    b_mean = np.mean(b)\n",
    "    \n",
    "    # Calculate the lift using a_mean and b_mean\n",
    "    lift = (b_mean - a_mean)/(a_mean)\n",
    "  \n",
    "    return str(round(lift*100, 2)) + '%'\n",
    "  \n",
    "# Print lift() with control and personalization as inputs\n",
    "print(lift(control, personalization))"
   ]
  },
  {
   "cell_type": "markdown",
   "metadata": {
    "id": "7ggJ7xpz5lAA"
   },
   "source": [
    "## Run t-test"
   ]
  },
  {
   "cell_type": "code",
   "execution_count": null,
   "metadata": {
    "id": "JoaTu1hI5pBt"
   },
   "outputs": [],
   "source": [
    "from scipy import stats"
   ]
  },
  {
   "cell_type": "code",
   "execution_count": null,
   "metadata": {
    "colab": {
     "base_uri": "https://localhost:8080/"
    },
    "executionInfo": {
     "elapsed": 13,
     "status": "ok",
     "timestamp": 1637626542952,
     "user": {
      "displayName": "Chuck Lenny",
      "photoUrl": "https://lh3.googleusercontent.com/a/default-user=s64",
      "userId": "18406008629121395867"
     },
     "user_tz": 300
    },
    "id": "CXF6om8x52ko",
    "outputId": "e064e890-e8f3-49e9-98ca-191174cb1e17"
   },
   "outputs": [
    {
     "data": {
      "text/plain": [
       "Ttest_indResult(statistic=-2.7343299447505074, pvalue=0.006451487844694175)"
      ]
     },
     "execution_count": 12,
     "metadata": {},
     "output_type": "execute_result"
    }
   ],
   "source": [
    "stats.ttest_ind(control,personalization)"
   ]
  },
  {
   "cell_type": "markdown",
   "metadata": {
    "id": "FinEPRbq6BpF"
   },
   "source": [
    "Hence, the difference is significant -> **Personalized Ads increased conversion rates**"
   ]
  },
  {
   "cell_type": "markdown",
   "metadata": {
    "id": "49shZ77X6iVb"
   },
   "source": [
    "# Repeat analysis across segments (language and age group)"
   ]
  },
  {
   "cell_type": "code",
   "execution_count": null,
   "metadata": {
    "id": "Q-HDeXOn63di"
   },
   "outputs": [],
   "source": [
    "def ab_segmentation(segment):\n",
    "  # Build a for loop for each subsegment in marketing\n",
    "  for subsegment in np.unique(marketing[segment].values):\n",
    "      print(subsegment)\n",
    "      \n",
    "      # Limit marketing to email and subsegment\n",
    "      email = marketing[(marketing['marketing_channel'] == 'Email') & (marketing[segment] == subsegment)]\n",
    "\n",
    "      subscribers = email.groupby(['user_id', 'variant'])['converted'].max()\n",
    "      subscribers = pd.DataFrame(subscribers.unstack(level=1)) \n",
    "      control = subscribers['control'].dropna()\n",
    "      personalization = subscribers['personalization'].dropna()\n",
    "\n",
    "      print('lift:', lift(control,personalization)) \n",
    "      print('t-statistic:', stats.ttest_ind(control,personalization), '\\n\\n')"
   ]
  },
  {
   "cell_type": "markdown",
   "metadata": {
    "id": "KToyoabD7emG"
   },
   "source": [
    "## Language"
   ]
  },
  {
   "cell_type": "code",
   "execution_count": null,
   "metadata": {
    "colab": {
     "base_uri": "https://localhost:8080/"
    },
    "executionInfo": {
     "elapsed": 144,
     "status": "ok",
     "timestamp": 1637626543089,
     "user": {
      "displayName": "Chuck Lenny",
      "photoUrl": "https://lh3.googleusercontent.com/a/default-user=s64",
      "userId": "18406008629121395867"
     },
     "user_tz": 300
    },
    "id": "txlX8g-27zvB",
    "outputId": "cbc2b4d1-0d50-4ac0-eeec-c6eca1254f9f"
   },
   "outputs": [
    {
     "name": "stdout",
     "output_type": "stream",
     "text": [
      "Arabic\n",
      "lift: 50.0%\n",
      "t-statistic: Ttest_indResult(statistic=-0.5773502691896255, pvalue=0.5795840000000001) \n",
      "\n",
      "\n",
      "English\n",
      "lift: 39.0%\n",
      "t-statistic: Ttest_indResult(statistic=-2.2183598646203166, pvalue=0.026991701290720815) \n",
      "\n",
      "\n",
      "German\n",
      "lift: -1.62%\n",
      "t-statistic: Ttest_indResult(statistic=0.1910083418078718, pvalue=0.8494394170062678) \n",
      "\n",
      "\n",
      "Spanish\n",
      "lift: 166.67%\n",
      "t-statistic: Ttest_indResult(statistic=-2.3570226039551585, pvalue=0.040156718110477524) \n",
      "\n",
      "\n"
     ]
    }
   ],
   "source": [
    "ab_segmentation('language_displayed')"
   ]
  },
  {
   "cell_type": "markdown",
   "metadata": {
    "id": "kVEmEqep73Yx"
   },
   "source": [
    "## Age Group"
   ]
  },
  {
   "cell_type": "code",
   "execution_count": null,
   "metadata": {
    "colab": {
     "base_uri": "https://localhost:8080/"
    },
    "executionInfo": {
     "elapsed": 4,
     "status": "ok",
     "timestamp": 1637626543089,
     "user": {
      "displayName": "Chuck Lenny",
      "photoUrl": "https://lh3.googleusercontent.com/a/default-user=s64",
      "userId": "18406008629121395867"
     },
     "user_tz": 300
    },
    "id": "xhjqXoer7rpy",
    "outputId": "4c5bccd5-8c78-4c2f-f369-7417a88bad1d"
   },
   "outputs": [
    {
     "name": "stdout",
     "output_type": "stream",
     "text": [
      "0-18 years\n",
      "lift: 121.4%\n",
      "t-statistic: Ttest_indResult(statistic=-2.966044912142211, pvalue=0.0038724494391297226) \n",
      "\n",
      "\n",
      "19-24 years\n",
      "lift: 106.24%\n",
      "t-statistic: Ttest_indResult(statistic=-3.03179438478667, pvalue=0.0030623836114689134) \n",
      "\n",
      "\n",
      "24-30 years\n",
      "lift: 161.19%\n",
      "t-statistic: Ttest_indResult(statistic=-3.861539544326876, pvalue=0.00018743381094867337) \n",
      "\n",
      "\n",
      "30-36 years\n",
      "lift: -100.0%\n",
      "t-statistic: Ttest_indResult(statistic=3.1859064644147996, pvalue=0.0023238487431765137) \n",
      "\n",
      "\n",
      "36-45 years\n",
      "lift: -85.23%\n",
      "t-statistic: Ttest_indResult(statistic=2.4317901279318503, pvalue=0.01797568600978829) \n",
      "\n",
      "\n",
      "45-55 years\n",
      "lift: -72.22%\n",
      "t-statistic: Ttest_indResult(statistic=2.065499127317933, pvalue=0.043062339688201196) \n",
      "\n",
      "\n",
      "55+ years\n",
      "lift: -100.0%\n",
      "t-statistic: Ttest_indResult(statistic=3.3265654564203397, pvalue=0.0016358623456360435) \n",
      "\n",
      "\n"
     ]
    }
   ],
   "source": [
    "ab_segmentation('age_group')"
   ]
  },
  {
   "cell_type": "markdown",
   "metadata": {
    "id": "yhrBPa-Z77ZX"
   },
   "source": [
    "Personalization was **significantly effective for younger age groups** and actually **lowered conversion rates for older age groups** "
   ]
  }
 ],
 "metadata": {
  "colab": {
   "authorship_tag": "ABX9TyM1P+U7NIw9G0ccA/XU3akY",
   "mount_file_id": "1MSOqVXHN9T62RkosMkIbarvG-oNkkS8s",
   "name": "Simple_AB.ipynb",
   "provenance": [],
   "toc_visible": true
  },
  "kernelspec": {
   "display_name": "Python 3",
   "language": "python",
   "name": "python3"
  },
  "language_info": {
   "codemirror_mode": {
    "name": "ipython",
    "version": 3
   },
   "file_extension": ".py",
   "mimetype": "text/x-python",
   "name": "python",
   "nbconvert_exporter": "python",
   "pygments_lexer": "ipython3",
   "version": "3.8.5"
  }
 },
 "nbformat": 4,
 "nbformat_minor": 4
}
