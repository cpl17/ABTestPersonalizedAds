{
 "cells": [
  {
   "cell_type": "markdown",
   "metadata": {
    "id": "-xO0XOSCGjeg"
   },
   "source": [
    "# Imports"
   ]
  },
  {
   "cell_type": "code",
   "execution_count": null,
   "metadata": {
    "id": "EkBDbQnnGqUf"
   },
   "outputs": [],
   "source": [
    "import numpy as np\n",
    "import pandas as pd\n",
    "import matplotlib.pyplot as plt"
   ]
  },
  {
   "cell_type": "markdown",
   "metadata": {
    "id": "CskBjsD7ayJb"
   },
   "source": [
    "# Helper Functions"
   ]
  },
  {
   "cell_type": "code",
   "execution_count": null,
   "metadata": {
    "id": "qpWD5OWB3zVq"
   },
   "outputs": [],
   "source": [
    "def conversion_rate(dataframe, column_names = None):\n",
    "  \n",
    "  \"\"\"Determine conversion rates either by groups or wrt the whole dataframe\"\"\"\n",
    "\n",
    "  #Conversion Rate by groups listed in 'column_names'\n",
    "  if column_names is not None:\n",
    "\n",
    "    # Total number of converted users\n",
    "    column_conv = dataframe[dataframe.converted].groupby(column_names)['user_id'].nunique()\n",
    "\n",
    "    # Total number users\n",
    "    column_total = dataframe.groupby(column_names).user_id.nunique()\n",
    "    \n",
    "    conversion_rate = column_conv/column_total\n",
    "    conversion_rate = conversion_rate.fillna(0)\n",
    "\n",
    "    return conversion_rate\n",
    "  \n",
    "  else:\n",
    "    \n",
    "    total = dataframe.user_id.nunique()\n",
    "    subscribers = dataframe[dataframe.converted]['user_id'].nunique()\n",
    "\n",
    "    return subscribers/total"
   ]
  },
  {
   "cell_type": "code",
   "execution_count": null,
   "metadata": {
    "id": "Ev_18TtS6aY8"
   },
   "outputs": [],
   "source": [
    "def retention_rate(dataframe, column_names = None):\n",
    "\n",
    "  \"\"\"Determine retention rates either by groups or wrt the whole dataframe\"\"\"\n",
    "\n",
    "\n",
    "  #Conversion Rate by groups listed in 'column_names'\n",
    "  if column_names is not None:\n",
    "\n",
    "    # Total number of converted users\n",
    "    column_retained = dataframe[dataframe.is_retained].groupby(column_names)['user_id'].nunique()\n",
    "\n",
    "    # Total number subscribers\n",
    "    column_subscribers = dataframe[dataframe.converted].groupby(column_names).user_id.nunique()\n",
    "    \n",
    "    retention_rate = (column_retained/column_subscribers).fillna(0)\n",
    "\n",
    "    return retention_rate\n",
    "  \n",
    "  else:\n",
    "    \n",
    "    sub = data[data.converted].user_id.nunique()\n",
    "    ret = data[data.is_retained]['user_id'].nunique()\n",
    "    \n",
    "    return ret/sub"
   ]
  },
  {
   "cell_type": "code",
   "execution_count": null,
   "metadata": {
    "id": "c7zMdSLB58bk"
   },
   "outputs": [],
   "source": [
    "def plotting_conv(dataframe):\n",
    "    for column in dataframe:\n",
    "        mask = np.isfinite(dataframe[column])\n",
    "        x = dataframe.index[mask]\n",
    "        y = dataframe.loc[mask,column]\n",
    "\n",
    "        # Plot column by dataframe's index\n",
    "        plt.plot(,)\n",
    "        plt.title('Daily ' + str(column) + ' conversion rate\\n', \n",
    "                  size = 16)\n",
    "        plt.ylabel('Conversion rate', size = 14)\n",
    "        plt.xlabel('Date', size = 14)\n",
    "        # Show plot\n",
    "        plt.show()  \n",
    "        plt.clf()"
   ]
  },
  {
   "cell_type": "markdown",
   "metadata": {
    "id": "48H8EluvGwWO"
   },
   "source": [
    "# Data"
   ]
  },
  {
   "cell_type": "code",
   "execution_count": null,
   "metadata": {
    "id": "ax2yl1IDGxpH"
   },
   "outputs": [],
   "source": [
    "data = pd.read_csv(\"./Data/marketing_channels.csv\",index_col=0,parse_dates=['date_served','date_subscribed','date_canceled'])"
   ]
  },
  {
   "cell_type": "markdown",
   "metadata": {
    "id": "hRwEu9MFrM8i"
   },
   "source": [
    "## Quick Look"
   ]
  },
  {
   "cell_type": "code",
   "execution_count": null,
   "metadata": {
    "colab": {
     "base_uri": "https://localhost:8080/",
     "height": 285
    },
    "executionInfo": {
     "elapsed": 153,
     "status": "ok",
     "timestamp": 1635428138584,
     "user": {
      "displayName": "Chuck Lenny",
      "photoUrl": "https://lh3.googleusercontent.com/a/default-user=s64",
      "userId": "18406008629121395867"
     },
     "user_tz": 240
    },
    "id": "b0pOluRlHNGg",
    "outputId": "2e1fd405-e017-4f0f-c998-f0dd22547d1b"
   },
   "outputs": [
    {
     "data": {
      "text/html": [
       "<div>\n",
       "<style scoped>\n",
       "    .dataframe tbody tr th:only-of-type {\n",
       "        vertical-align: middle;\n",
       "    }\n",
       "\n",
       "    .dataframe tbody tr th {\n",
       "        vertical-align: top;\n",
       "    }\n",
       "\n",
       "    .dataframe thead th {\n",
       "        text-align: right;\n",
       "    }\n",
       "</style>\n",
       "<table border=\"1\" class=\"dataframe\">\n",
       "  <thead>\n",
       "    <tr style=\"text-align: right;\">\n",
       "      <th></th>\n",
       "      <th>user_id</th>\n",
       "      <th>date_served</th>\n",
       "      <th>marketing_channel</th>\n",
       "      <th>variant</th>\n",
       "      <th>converted</th>\n",
       "      <th>language_displayed</th>\n",
       "      <th>language_preferred</th>\n",
       "      <th>age_group</th>\n",
       "      <th>date_subscribed</th>\n",
       "      <th>date_canceled</th>\n",
       "      <th>subscribing_channel</th>\n",
       "      <th>is_retained</th>\n",
       "      <th>DoW</th>\n",
       "      <th>channel_code</th>\n",
       "      <th>is_correct_lang</th>\n",
       "    </tr>\n",
       "  </thead>\n",
       "  <tbody>\n",
       "    <tr>\n",
       "      <th>0</th>\n",
       "      <td>a100000029</td>\n",
       "      <td>2018-01-01</td>\n",
       "      <td>House Ads</td>\n",
       "      <td>personalization</td>\n",
       "      <td>True</td>\n",
       "      <td>English</td>\n",
       "      <td>English</td>\n",
       "      <td>0-18 years</td>\n",
       "      <td>2018-01-01</td>\n",
       "      <td>NaN</td>\n",
       "      <td>House Ads</td>\n",
       "      <td>True</td>\n",
       "      <td>0.0</td>\n",
       "      <td>1.0</td>\n",
       "      <td>Yes</td>\n",
       "    </tr>\n",
       "    <tr>\n",
       "      <th>1</th>\n",
       "      <td>a100000030</td>\n",
       "      <td>2018-01-01</td>\n",
       "      <td>House Ads</td>\n",
       "      <td>personalization</td>\n",
       "      <td>True</td>\n",
       "      <td>English</td>\n",
       "      <td>English</td>\n",
       "      <td>19-24 years</td>\n",
       "      <td>2018-01-01</td>\n",
       "      <td>NaN</td>\n",
       "      <td>House Ads</td>\n",
       "      <td>True</td>\n",
       "      <td>0.0</td>\n",
       "      <td>1.0</td>\n",
       "      <td>Yes</td>\n",
       "    </tr>\n",
       "    <tr>\n",
       "      <th>2</th>\n",
       "      <td>a100000031</td>\n",
       "      <td>2018-01-01</td>\n",
       "      <td>House Ads</td>\n",
       "      <td>personalization</td>\n",
       "      <td>True</td>\n",
       "      <td>English</td>\n",
       "      <td>English</td>\n",
       "      <td>24-30 years</td>\n",
       "      <td>2018-01-01</td>\n",
       "      <td>NaN</td>\n",
       "      <td>House Ads</td>\n",
       "      <td>True</td>\n",
       "      <td>0.0</td>\n",
       "      <td>1.0</td>\n",
       "      <td>Yes</td>\n",
       "    </tr>\n",
       "    <tr>\n",
       "      <th>3</th>\n",
       "      <td>a100000032</td>\n",
       "      <td>2018-01-01</td>\n",
       "      <td>House Ads</td>\n",
       "      <td>personalization</td>\n",
       "      <td>True</td>\n",
       "      <td>English</td>\n",
       "      <td>English</td>\n",
       "      <td>30-36 years</td>\n",
       "      <td>2018-01-01</td>\n",
       "      <td>NaN</td>\n",
       "      <td>House Ads</td>\n",
       "      <td>True</td>\n",
       "      <td>0.0</td>\n",
       "      <td>1.0</td>\n",
       "      <td>Yes</td>\n",
       "    </tr>\n",
       "    <tr>\n",
       "      <th>4</th>\n",
       "      <td>a100000033</td>\n",
       "      <td>2018-01-01</td>\n",
       "      <td>House Ads</td>\n",
       "      <td>personalization</td>\n",
       "      <td>True</td>\n",
       "      <td>English</td>\n",
       "      <td>English</td>\n",
       "      <td>36-45 years</td>\n",
       "      <td>2018-01-01</td>\n",
       "      <td>NaN</td>\n",
       "      <td>House Ads</td>\n",
       "      <td>True</td>\n",
       "      <td>0.0</td>\n",
       "      <td>1.0</td>\n",
       "      <td>Yes</td>\n",
       "    </tr>\n",
       "  </tbody>\n",
       "</table>\n",
       "</div>"
      ],
      "text/plain": [
       "      user_id date_served marketing_channel  ...  DoW  channel_code is_correct_lang\n",
       "0  a100000029  2018-01-01         House Ads  ...  0.0           1.0             Yes\n",
       "1  a100000030  2018-01-01         House Ads  ...  0.0           1.0             Yes\n",
       "2  a100000031  2018-01-01         House Ads  ...  0.0           1.0             Yes\n",
       "3  a100000032  2018-01-01         House Ads  ...  0.0           1.0             Yes\n",
       "4  a100000033  2018-01-01         House Ads  ...  0.0           1.0             Yes\n",
       "\n",
       "[5 rows x 15 columns]"
      ]
     },
     "execution_count": 8,
     "metadata": {},
     "output_type": "execute_result"
    }
   ],
   "source": [
    "data.head()"
   ]
  },
  {
   "cell_type": "code",
   "execution_count": null,
   "metadata": {
    "colab": {
     "base_uri": "https://localhost:8080/"
    },
    "executionInfo": {
     "elapsed": 157,
     "status": "ok",
     "timestamp": 1637618818704,
     "user": {
      "displayName": "Chuck Lenny",
      "photoUrl": "https://lh3.googleusercontent.com/a/default-user=s64",
      "userId": "18406008629121395867"
     },
     "user_tz": 300
    },
    "id": "Ah_5mOABsAZo",
    "outputId": "2d5f9482-c344-41b8-c3d4-1da2ce95b9ad"
   },
   "outputs": [
    {
     "name": "stdout",
     "output_type": "stream",
     "text": [
      "<class 'pandas.core.frame.DataFrame'>\n",
      "Int64Index: 10037 entries, 0 to 10036\n",
      "Data columns (total 15 columns):\n",
      " #   Column               Non-Null Count  Dtype         \n",
      "---  ------               --------------  -----         \n",
      " 0   user_id              10037 non-null  object        \n",
      " 1   date_served          10021 non-null  datetime64[ns]\n",
      " 2   marketing_channel    10022 non-null  object        \n",
      " 3   variant              10037 non-null  object        \n",
      " 4   converted            10037 non-null  bool          \n",
      " 5   language_displayed   10037 non-null  object        \n",
      " 6   language_preferred   10037 non-null  object        \n",
      " 7   age_group            10037 non-null  object        \n",
      " 8   date_subscribed      1856 non-null   datetime64[ns]\n",
      " 9   date_canceled        577 non-null    datetime64[ns]\n",
      " 10  subscribing_channel  1856 non-null   object        \n",
      " 11  is_retained          10037 non-null  bool          \n",
      " 12  DoW                  1856 non-null   float64       \n",
      " 13  channel_code         1856 non-null   float64       \n",
      " 14  is_correct_lang      10037 non-null  object        \n",
      "dtypes: bool(2), datetime64[ns](3), float64(2), object(8)\n",
      "memory usage: 1.4+ MB\n"
     ]
    }
   ],
   "source": [
    "data.info()"
   ]
  },
  {
   "cell_type": "code",
   "execution_count": null,
   "metadata": {
    "colab": {
     "base_uri": "https://localhost:8080/"
    },
    "executionInfo": {
     "elapsed": 147,
     "status": "ok",
     "timestamp": 1637618353632,
     "user": {
      "displayName": "Chuck Lenny",
      "photoUrl": "https://lh3.googleusercontent.com/a/default-user=s64",
      "userId": "18406008629121395867"
     },
     "user_tz": 300
    },
    "id": "NZXVFFzTqOtf",
    "outputId": "6a42f8a7-94fb-4c1f-caff-a441e4921403"
   },
   "outputs": [
    {
     "data": {
      "text/plain": [
       "(10037, 15)"
      ]
     },
     "execution_count": 75,
     "metadata": {},
     "output_type": "execute_result"
    }
   ],
   "source": [
    "data.shape"
   ]
  },
  {
   "cell_type": "markdown",
   "metadata": {
    "id": "1TteaWrhdRu6"
   },
   "source": [
    "The data consists of 10037 records relating to a companies marketing efforts and consumer subscriptions in the month of January 2018. Subscrictions were then continually tracked through roughly the beginning of May."
   ]
  },
  {
   "cell_type": "code",
   "execution_count": null,
   "metadata": {
    "colab": {
     "base_uri": "https://localhost:8080/",
     "height": 141
    },
    "executionInfo": {
     "elapsed": 185,
     "status": "ok",
     "timestamp": 1637615833825,
     "user": {
      "displayName": "Chuck Lenny",
      "photoUrl": "https://lh3.googleusercontent.com/a/default-user=s64",
      "userId": "18406008629121395867"
     },
     "user_tz": 300
    },
    "id": "fuVSkJxjeOw4",
    "outputId": "e111da0e-ce99-4f47-e542-27bf031d1039"
   },
   "outputs": [
    {
     "data": {
      "text/html": [
       "<div>\n",
       "<style scoped>\n",
       "    .dataframe tbody tr th:only-of-type {\n",
       "        vertical-align: middle;\n",
       "    }\n",
       "\n",
       "    .dataframe tbody tr th {\n",
       "        vertical-align: top;\n",
       "    }\n",
       "\n",
       "    .dataframe thead th {\n",
       "        text-align: right;\n",
       "    }\n",
       "</style>\n",
       "<table border=\"1\" class=\"dataframe\">\n",
       "  <thead>\n",
       "    <tr style=\"text-align: right;\">\n",
       "      <th></th>\n",
       "      <th>Earlist</th>\n",
       "      <th>Latest</th>\n",
       "    </tr>\n",
       "  </thead>\n",
       "  <tbody>\n",
       "    <tr>\n",
       "      <th>date_served</th>\n",
       "      <td>2018-01-01</td>\n",
       "      <td>2018-01-31</td>\n",
       "    </tr>\n",
       "    <tr>\n",
       "      <th>date_subscribed</th>\n",
       "      <td>2018-01-01</td>\n",
       "      <td>2018-01-31</td>\n",
       "    </tr>\n",
       "    <tr>\n",
       "      <th>date_canceled</th>\n",
       "      <td>2018-01-05</td>\n",
       "      <td>2018-05-09</td>\n",
       "    </tr>\n",
       "  </tbody>\n",
       "</table>\n",
       "</div>"
      ],
      "text/plain": [
       "                   Earlist     Latest\n",
       "date_served     2018-01-01 2018-01-31\n",
       "date_subscribed 2018-01-01 2018-01-31\n",
       "date_canceled   2018-01-05 2018-05-09"
      ]
     },
     "execution_count": 22,
     "metadata": {},
     "output_type": "execute_result"
    }
   ],
   "source": [
    "dates_cols = data.select_dtypes(include='datetime')\n",
    "dates_cols.agg(['min','max'],).T.rename({'min':'Earlist','max':'Latest'},axis=1)"
   ]
  },
  {
   "cell_type": "markdown",
   "metadata": {
    "id": "0YDNABMFhDLA"
   },
   "source": [
    "Some individuals were reached out too more than once. Additionally, some were marketed to across multiple channels and given both personalized and non-personalized variants. "
   ]
  },
  {
   "cell_type": "code",
   "execution_count": null,
   "metadata": {
    "colab": {
     "base_uri": "https://localhost:8080/"
    },
    "executionInfo": {
     "elapsed": 257,
     "status": "ok",
     "timestamp": 1637618438834,
     "user": {
      "displayName": "Chuck Lenny",
      "photoUrl": "https://lh3.googleusercontent.com/a/default-user=s64",
      "userId": "18406008629121395867"
     },
     "user_tz": 300
    },
    "id": "XQnuLufKdE8S",
    "outputId": "1d693af6-172c-4fd4-a127-b1995d44f74e"
   },
   "outputs": [
    {
     "name": "stdout",
     "output_type": "stream",
     "text": [
      "Number of individuals: 7309\n"
     ]
    }
   ],
   "source": [
    "print(f\"Number of individuals: {data.user_id.nunique()}\")"
   ]
  },
  {
   "cell_type": "code",
   "execution_count": null,
   "metadata": {
    "colab": {
     "base_uri": "https://localhost:8080/"
    },
    "executionInfo": {
     "elapsed": 151,
     "status": "ok",
     "timestamp": 1637617195007,
     "user": {
      "displayName": "Chuck Lenny",
      "photoUrl": "https://lh3.googleusercontent.com/a/default-user=s64",
      "userId": "18406008629121395867"
     },
     "user_tz": 300
    },
    "id": "3hr7FMcze2A9",
    "outputId": "4220b7ef-b11c-4f91-cfca-f7469688b70d"
   },
   "outputs": [
    {
     "data": {
      "text/plain": [
       "user_id     marketing_channel\n",
       "a100000051  House Ads            1\n",
       "            Push                 1\n",
       "a100000055  House Ads            1\n",
       "            Push                 1\n",
       "a100000056  Facebook             1\n",
       "                                ..\n",
       "a100006806  Instagram            1\n",
       "a100006808  Facebook             1\n",
       "            Push                 1\n",
       "a100006809  House Ads            1\n",
       "            Instagram            1\n",
       "Length: 3321, dtype: int64"
      ]
     },
     "execution_count": 61,
     "metadata": {},
     "output_type": "execute_result"
    }
   ],
   "source": [
    "temp = data.groupby([\"user_id\",\"marketing_channel\"]).size()\n",
    "temp[temp.index.get_level_values(0).duplicated(keep=False)]"
   ]
  },
  {
   "cell_type": "code",
   "execution_count": null,
   "metadata": {
    "colab": {
     "base_uri": "https://localhost:8080/"
    },
    "executionInfo": {
     "elapsed": 149,
     "status": "ok",
     "timestamp": 1637617364720,
     "user": {
      "displayName": "Chuck Lenny",
      "photoUrl": "https://lh3.googleusercontent.com/a/default-user=s64",
      "userId": "18406008629121395867"
     },
     "user_tz": 300
    },
    "id": "7N5N8Yykl9_4",
    "outputId": "48e0b473-eeab-48ff-c88c-c68311cc1bc0"
   },
   "outputs": [
    {
     "data": {
      "text/plain": [
       "user_id     variant        \n",
       "a100000784  control            1\n",
       "            personalization    1\n",
       "a100000788  control            1\n",
       "            personalization    1\n",
       "a100000792  control            1\n",
       "                              ..\n",
       "a100005979  personalization    1\n",
       "a100005980  control            1\n",
       "            personalization    1\n",
       "a100005981  control            1\n",
       "            personalization    1\n",
       "Length: 998, dtype: int64"
      ]
     },
     "execution_count": 63,
     "metadata": {},
     "output_type": "execute_result"
    }
   ],
   "source": [
    "temp = data.groupby([\"user_id\",\"variant\"]).size()\n",
    "temp[temp.index.get_level_values(0).duplicated(keep=False)]"
   ]
  },
  {
   "cell_type": "markdown",
   "metadata": {
    "id": "7TlmJhW_HUaF"
   },
   "source": [
    "The various channels,age groups, and languages served and prefered are shown below."
   ]
  },
  {
   "cell_type": "code",
   "execution_count": null,
   "metadata": {
    "colab": {
     "base_uri": "https://localhost:8080/"
    },
    "executionInfo": {
     "elapsed": 256,
     "status": "ok",
     "timestamp": 1637618253736,
     "user": {
      "displayName": "Chuck Lenny",
      "photoUrl": "https://lh3.googleusercontent.com/a/default-user=s64",
      "userId": "18406008629121395867"
     },
     "user_tz": 300
    },
    "id": "fEYgGGvapbUz",
    "outputId": "e6552ac2-668a-4fc0-95f3-de1bc4215021"
   },
   "outputs": [
    {
     "name": "stdout",
     "output_type": "stream",
     "text": [
      "House Ads    4733\n",
      "Instagram    1871\n",
      "Facebook     1860\n",
      "Push          993\n",
      "Email         565\n",
      "Name: marketing_channel, dtype: int64\n",
      "\n",
      "\n",
      "19-24 years    1682\n",
      "24-30 years    1568\n",
      "0-18 years     1539\n",
      "30-36 years    1355\n",
      "45-55 years    1353\n",
      "36-45 years    1353\n",
      "55+ years      1187\n",
      "Name: age_group, dtype: int64\n",
      "\n",
      "\n",
      "English    9275\n",
      "Spanish     450\n",
      "German      167\n",
      "Arabic      145\n",
      "Name: language_preferred, dtype: int64\n",
      "\n",
      "\n",
      "English    9793\n",
      "Spanish     136\n",
      "German       81\n",
      "Arabic       27\n",
      "Name: language_displayed, dtype: int64\n",
      "\n",
      "\n"
     ]
    }
   ],
   "source": [
    "for col in [\"marketing_channel\",\"age_group\",\"language_preferred\",\"language_displayed\"]:\n",
    "  print(data[col].value_counts())\n",
    "  print(\"\\n\")"
   ]
  },
  {
   "cell_type": "markdown",
   "metadata": {
    "id": "M1wyM3dhqGMU"
   },
   "source": [
    "Note: DoW ->  Day of the Week when customer subscribed"
   ]
  },
  {
   "cell_type": "markdown",
   "metadata": {
    "id": "19kQBQ5mIOlH"
   },
   "source": [
    "## Data Cleaning"
   ]
  },
  {
   "cell_type": "markdown",
   "metadata": {
    "id": "NoRKD-r0wOBb"
   },
   "source": [
    "1. Remove records with missing channels or serve date\n",
    "2. Drop channel code because its redundant\n",
    "3. Encode DoW as int"
   ]
  },
  {
   "cell_type": "code",
   "execution_count": null,
   "metadata": {
    "id": "xRUK7B3tt-CZ"
   },
   "outputs": [],
   "source": [
    "data.dropna(subset=['marketing_channel','date_served'],inplace=True)\n",
    "data.drop('channel_code',axis=1, inplace=True)\n",
    "data.DoW = data.DoW.apply(lambda x: int(x) if str(x).isdigit() else x)"
   ]
  },
  {
   "cell_type": "code",
   "execution_count": null,
   "metadata": {
    "id": "cB2nzOEegvEq"
   },
   "outputs": [],
   "source": [
    "corrupted_index = data[(data.converted == False) & (data.is_retained == True)].index\n",
    "data.loc[corrupted_index,\"is_retained\"] = False"
   ]
  },
  {
   "cell_type": "markdown",
   "metadata": {
    "id": "bbmeH2WqQ21G"
   },
   "source": [
    "# Preliminary EDA"
   ]
  },
  {
   "cell_type": "markdown",
   "metadata": {
    "id": "7Ko4LxuLZzZi"
   },
   "source": [
    "**Distribution of marketing channels and variants**"
   ]
  },
  {
   "cell_type": "code",
   "execution_count": null,
   "metadata": {
    "colab": {
     "base_uri": "https://localhost:8080/",
     "height": 230
    },
    "executionInfo": {
     "elapsed": 157,
     "status": "ok",
     "timestamp": 1635433045909,
     "user": {
      "displayName": "Chuck Lenny",
      "photoUrl": "https://lh3.googleusercontent.com/a/default-user=s64",
      "userId": "18406008629121395867"
     },
     "user_tz": 240
    },
    "id": "y2mpRAMaZlkA",
    "outputId": "1b48ab43-1464-421c-93ca-6d9a2d36ca8a"
   },
   "outputs": [
    {
     "data": {
      "text/html": [
       "<div>\n",
       "<style scoped>\n",
       "    .dataframe tbody tr th:only-of-type {\n",
       "        vertical-align: middle;\n",
       "    }\n",
       "\n",
       "    .dataframe tbody tr th {\n",
       "        vertical-align: top;\n",
       "    }\n",
       "\n",
       "    .dataframe thead th {\n",
       "        text-align: right;\n",
       "    }\n",
       "</style>\n",
       "<table border=\"1\" class=\"dataframe\">\n",
       "  <thead>\n",
       "    <tr style=\"text-align: right;\">\n",
       "      <th>variant</th>\n",
       "      <th>control</th>\n",
       "      <th>personalization</th>\n",
       "    </tr>\n",
       "    <tr>\n",
       "      <th>marketing_channel</th>\n",
       "      <th></th>\n",
       "      <th></th>\n",
       "    </tr>\n",
       "  </thead>\n",
       "  <tbody>\n",
       "    <tr>\n",
       "      <th>Email</th>\n",
       "      <td>274</td>\n",
       "      <td>291</td>\n",
       "    </tr>\n",
       "    <tr>\n",
       "      <th>Facebook</th>\n",
       "      <td>894</td>\n",
       "      <td>966</td>\n",
       "    </tr>\n",
       "    <tr>\n",
       "      <th>House Ads</th>\n",
       "      <td>2552</td>\n",
       "      <td>2181</td>\n",
       "    </tr>\n",
       "    <tr>\n",
       "      <th>Instagram</th>\n",
       "      <td>888</td>\n",
       "      <td>983</td>\n",
       "    </tr>\n",
       "    <tr>\n",
       "      <th>Push</th>\n",
       "      <td>468</td>\n",
       "      <td>525</td>\n",
       "    </tr>\n",
       "  </tbody>\n",
       "</table>\n",
       "</div>"
      ],
      "text/plain": [
       "variant            control  personalization\n",
       "marketing_channel                          \n",
       "Email                  274              291\n",
       "Facebook               894              966\n",
       "House Ads             2552             2181\n",
       "Instagram              888              983\n",
       "Push                   468              525"
      ]
     },
     "execution_count": 73,
     "metadata": {},
     "output_type": "execute_result"
    }
   ],
   "source": [
    "dist = data.groupby(['marketing_channel', 'variant']).size().unstack()\n",
    "dist"
   ]
  },
  {
   "cell_type": "code",
   "execution_count": null,
   "metadata": {
    "colab": {
     "base_uri": "https://localhost:8080/",
     "height": 322
    },
    "executionInfo": {
     "elapsed": 395,
     "status": "ok",
     "timestamp": 1635433206109,
     "user": {
      "displayName": "Chuck Lenny",
      "photoUrl": "https://lh3.googleusercontent.com/a/default-user=s64",
      "userId": "18406008629121395867"
     },
     "user_tz": 240
    },
    "id": "IBDDn0IzW-mH",
    "outputId": "57cf2dc4-b31d-4e4e-ca98-9cd6fe3a069b"
   },
   "outputs": [
    {
     "data": {
      "image/png": "[encoded data removed]",
      "text/plain": [
       "<Figure size 432x288 with 1 Axes>"
      ]
     },
     "metadata": {
      "needs_background": "light"
     },
     "output_type": "display_data"
    }
   ],
   "source": [
    "sort_list = dist.sum(axis=1).sort_values(ascending=False).index\n",
    "ax = dist.reindex(sort_list).plot.bar(stacked=True)"
   ]
  },
  {
   "cell_type": "markdown",
   "metadata": {
    "id": "xKynPbGtwrS7"
   },
   "source": [
    "There is roughly equal distribution across variants for each marketing channel, which is important in constructing AB test for a group."
   ]
  },
  {
   "cell_type": "markdown",
   "metadata": {
    "id": "pLwFUs0ZRWzt"
   },
   "source": [
    "**Observe the number of unique users served ads during the month**"
   ]
  },
  {
   "cell_type": "code",
   "execution_count": null,
   "metadata": {
    "colab": {
     "base_uri": "https://localhost:8080/",
     "height": 331
    },
    "executionInfo": {
     "elapsed": 762,
     "status": "ok",
     "timestamp": 1637621131169,
     "user": {
      "displayName": "Chuck Lenny",
      "photoUrl": "https://lh3.googleusercontent.com/a/default-user=s64",
      "userId": "18406008629121395867"
     },
     "user_tz": 300
    },
    "id": "-BUYDHaNQ47d",
    "outputId": "d09179ad-8cf8-44b3-b5b4-083b07a9604d"
   },
   "outputs": [
    {
     "data": {
      "image/png": "[encoded data removed]",
      "text/plain": [
       "<Figure size 432x288 with 2 Axes>"
      ]
     },
     "metadata": {
      "needs_background": "light"
     },
     "output_type": "display_data"
    }
   ],
   "source": [
    "# Total Served and Total by group\n",
    "daily_users = data.groupby(['date_served'])['user_id'].nunique()\n",
    "daily_by_group = data.groupby(['date_served','marketing_channel'])['user_id'].nunique().unstack()\n",
    "\n",
    "#Create Plot\n",
    "fig, (ax1,ax2) = plt.subplots(1,2,sharex=True,sharey=True)\n",
    "\n",
    "daily_users.plot(ax=ax1)\n",
    "ax1.set_title('Daily Users')\n",
    "ax1.set_ylabel('Number of Users')\n",
    "\n",
    "daily_by_group.plot(ax=ax2)\n",
    "ax2.set_title('Daily Users - By Group');"
   ]
  },
  {
   "cell_type": "markdown",
   "metadata": {
    "id": "Y19P1cC71CBs"
   },
   "source": [
    "Clearly, the spike in users served ads is the result of an Email Campaign around the 15th of January"
   ]
  },
  {
   "cell_type": "markdown",
   "metadata": {
    "id": "HWuSGGmmrYQe"
   },
   "source": [
    "**Channel Distribution by Age**"
   ]
  },
  {
   "cell_type": "code",
   "execution_count": null,
   "metadata": {
    "colab": {
     "base_uri": "https://localhost:8080/",
     "height": 337
    },
    "executionInfo": {
     "elapsed": 645,
     "status": "ok",
     "timestamp": 1635437659430,
     "user": {
      "displayName": "Chuck Lenny",
      "photoUrl": "https://lh3.googleusercontent.com/a/default-user=s64",
      "userId": "18406008629121395867"
     },
     "user_tz": 240
    },
    "id": "HDCssNsbrOzb",
    "outputId": "e43cfaaf-1aeb-4af9-ce7e-f1e506db9982"
   },
   "outputs": [
    {
     "data": {
      "image/png": "[encoded data removed]",
      "text/plain": [
       "<Figure size 432x288 with 1 Axes>"
      ]
     },
     "metadata": {
      "needs_background": "light"
     },
     "output_type": "display_data"
    }
   ],
   "source": [
    "channel_age = data.groupby(['marketing_channel', 'age_group'])\\\n",
    "                                ['user_id'].count()\n",
    "\n",
    "# Unstack channel_age and transform it into a DataFrame\n",
    "channel_age_df = pd.DataFrame(channel_age.unstack(level = 1))\n",
    "\n",
    "# Plot channel_age\n",
    "channel_age_df.plot(kind = 'bar')\n",
    "plt.title('Marketing channels by age group')\n",
    "plt.xlabel('Age Group')\n",
    "plt.ylabel('Users')\n",
    "# Add a legend to the plot\n",
    "plt.legend(loc = 'upper right', \n",
    "           labels = channel_age_df.columns.values);\n"
   ]
  },
  {
   "cell_type": "markdown",
   "metadata": {
    "id": "LL9tz7btslJ2"
   },
   "source": [
    "Only noticeable trend is that email and instagram not reaching older age groups"
   ]
  },
  {
   "cell_type": "markdown",
   "metadata": {
    "id": "knYV5o-rbnLA"
   },
   "source": [
    "# Conversion and Rentention Rates"
   ]
  },
  {
   "cell_type": "markdown",
   "metadata": {
    "id": "G-Bmk-xQbqGv"
   },
   "source": [
    "Want to observe:\n",
    "\n",
    "1. **Converstion Rate**: Of all people that came into contact with campaign, how many bought product\n",
    "\n",
    "2. **Retetion Rate:** If the user subscribed, are they still a subscriber \n",
    "\n"
   ]
  },
  {
   "cell_type": "code",
   "execution_count": null,
   "metadata": {
    "colab": {
     "base_uri": "https://localhost:8080/"
    },
    "executionInfo": {
     "elapsed": 161,
     "status": "ok",
     "timestamp": 1637621654351,
     "user": {
      "displayName": "Chuck Lenny",
      "photoUrl": "https://lh3.googleusercontent.com/a/default-user=s64",
      "userId": "18406008629121395867"
     },
     "user_tz": 300
    },
    "id": "os3rWB7N2GM2",
    "outputId": "2c93b2b3-0ece-4980-f206-69c39bd5b31d"
   },
   "outputs": [
    {
     "name": "stdout",
     "output_type": "stream",
     "text": [
      "The Total Conversion Rate is 0.14% and of these customers, 0.67% remained by the middle of May\n"
     ]
    }
   ],
   "source": [
    "print(f\"The Total Conversion Rate is {round(conversion_rate(data),2)}% and of these customers, {round(retention_rate(data),2)}% remained by the middle of May\")"
   ]
  },
  {
   "cell_type": "code",
   "execution_count": null,
   "metadata": {
    "id": "rk0azmIC5Y9Z"
   },
   "outputs": [],
   "source": [
    "subs_gained =  data.groupby('date_subscribed').size().rename('subs_gained')\n",
    "subs_gained.index.rename('date',inplace=True)\n",
    "\n",
    "subs_lost = -data.groupby('date_canceled').size().rename('subs_lost')\n",
    "subs_lost.index.rename('date',inplace=True)\n",
    "\n",
    "df = pd.merge(subs_gained,subs_lost,on='date',how='outer').fillna(0)\n",
    "df['current_subs'] = (df.subs_gained+df.subs_lost).cumsum()\n",
    "df['total_lost'] = -df.subs_lost.cumsum()"
   ]
  },
  {
   "cell_type": "code",
   "execution_count": null,
   "metadata": {
    "colab": {
     "base_uri": "https://localhost:8080/",
     "height": 285
    },
    "executionInfo": {
     "elapsed": 434,
     "status": "ok",
     "timestamp": 1637623983473,
     "user": {
      "displayName": "Chuck Lenny",
      "photoUrl": "https://lh3.googleusercontent.com/a/default-user=s64",
      "userId": "18406008629121395867"
     },
     "user_tz": 300
    },
    "id": "TDn-xvN8534E",
    "outputId": "fde5d7f8-1d5f-4b85-d42a-6d4b659b2ca1"
   },
   "outputs": [
    {
     "data": {
      "image/png": "[encoded data removed]",
      "text/plain": [
       "<Figure size 432x288 with 1 Axes>"
      ]
     },
     "metadata": {
      "needs_background": "light"
     },
     "output_type": "display_data"
    }
   ],
   "source": [
    "df.plot();"
   ]
  },
  {
   "cell_type": "markdown",
   "metadata": {
    "id": "pGQ12gAD-e90"
   },
   "source": [
    "So, by the end of marketing effort, they were able to secure around 1900 subscriptions and by the end of may, kept close to 1300."
   ]
  },
  {
   "cell_type": "markdown",
   "metadata": {
    "id": "LF42VEgIitlB"
   },
   "source": [
    "## Customer Segmentation"
   ]
  },
  {
   "cell_type": "markdown",
   "metadata": {
    "id": "kZj2O0lNiwuF"
   },
   "source": [
    "Want to get a more granular level look on conversion rates"
   ]
  },
  {
   "cell_type": "markdown",
   "metadata": {
    "id": "ZCpxYj2fjbVM"
   },
   "source": [
    "**Look at Conversion Rates by Language**"
   ]
  },
  {
   "cell_type": "code",
   "execution_count": null,
   "metadata": {
    "id": "gEmr7vcyk7qM"
   },
   "outputs": [],
   "source": [
    "# Group by language_displayed and count unique users\n",
    "language_conversion_rate = conversion_rate(data,column_names=['language_displayed'])"
   ]
  },
  {
   "cell_type": "code",
   "execution_count": null,
   "metadata": {
    "colab": {
     "base_uri": "https://localhost:8080/",
     "height": 348
    },
    "executionInfo": {
     "elapsed": 244,
     "status": "ok",
     "timestamp": 1635441077500,
     "user": {
      "displayName": "Chuck Lenny",
      "photoUrl": "https://lh3.googleusercontent.com/a/default-user=s64",
      "userId": "18406008629121395867"
     },
     "user_tz": 240
    },
    "id": "vn6OIyjCm0FP",
    "outputId": "a06b711b-2e6d-4960-9523-16e0b7115579"
   },
   "outputs": [
    {
     "data": {
      "image/png": "[encoded data removed]",
      "text/plain": [
       "<Figure size 432x288 with 1 Axes>"
      ]
     },
     "metadata": {
      "needs_background": "light"
     },
     "output_type": "display_data"
    }
   ],
   "source": [
    "# Create a bar chart using language_conversion_rate DataFrame\n",
    "language_conversion_rate.plot(kind='bar')\n",
    "\n",
    "# Add a title and x and y-axis labels\n",
    "plt.title('Conversion rate by language\\n', size = 16)\n",
    "plt.xlabel('Language', size = 14)\n",
    "plt.ylabel('Conversion rate (%)', size = 14);"
   ]
  },
  {
   "cell_type": "markdown",
   "metadata": {
    "id": "wYjj8eLZrPuM"
   },
   "source": [
    "**Observe Retentional Total by Date Subscribed and Channel**"
   ]
  },
  {
   "cell_type": "markdown",
   "metadata": {
    "id": "4Aiw9lT3H3fL"
   },
   "source": [
    "Look at what percentage of users who subscribed on a given date using a specific channel are still subscribed"
   ]
  },
  {
   "cell_type": "code",
   "execution_count": null,
   "metadata": {
    "colab": {
     "base_uri": "https://localhost:8080/",
     "height": 330
    },
    "executionInfo": {
     "elapsed": 593,
     "status": "ok",
     "timestamp": 1637626086449,
     "user": {
      "displayName": "Chuck Lenny",
      "photoUrl": "https://lh3.googleusercontent.com/a/default-user=s64",
      "userId": "18406008629121395867"
     },
     "user_tz": 300
    },
    "id": "hW3JdVEWuaf_",
    "outputId": "d4f234c9-32cf-4450-ed41-72bde136376b"
   },
   "outputs": [
    {
     "data": {
      "image/png": "[encoded data removed]",
      "text/plain": [
       "<Figure size 432x288 with 1 Axes>"
      ]
     },
     "metadata": {
      "needs_background": "light"
     },
     "output_type": "display_data"
    }
   ],
   "source": [
    "retention_rate_df = retention_rate(data,column_names = ['date_subscribed','subscribing_channel']).unstack()\n",
    "\n",
    "# Plot retention rate\n",
    "retention_rate_df.ffill().rolling(window = 4).mean().plot()\n",
    "\n",
    "\n",
    "# Add a title, x-label, y-label, legend and display the plot\n",
    "plt.title(\"Retention Rate by Subscribing Channel - Smoothed\")\n",
    "plt.xlabel(\"Date Subscribed\")\n",
    "plt.ylabel(\"Retention Rate (%)\")\n",
    "plt.legend(loc='lower left',labels=retention_rate_df.columns)\n",
    "plt.show();"
   ]
  },
  {
   "cell_type": "markdown",
   "metadata": {
    "id": "SsIJvxZ7v0GS"
   },
   "source": [
    "# Conversion Attribution"
   ]
  },
  {
   "cell_type": "markdown",
   "metadata": {
    "id": "wQ32bzwT7ac3"
   },
   "source": [
    "As can be seen in the segmented analysis above, the English conversion rates are low and the House Ads take a steep dip around the 15th. \n",
    "\n",
    "This problem occured because non-english speaking customers where given English ads. \n",
    "\n",
    "Further analysis should determine the impact of this. For now, I will just remove these records from the data\n",
    "\n"
   ]
  },
  {
   "cell_type": "code",
   "execution_count": null,
   "metadata": {
    "colab": {
     "base_uri": "https://localhost:8080/"
    },
    "executionInfo": {
     "elapsed": 165,
     "status": "ok",
     "timestamp": 1637625053376,
     "user": {
      "displayName": "Chuck Lenny",
      "photoUrl": "https://lh3.googleusercontent.com/a/default-user=s64",
      "userId": "18406008629121395867"
     },
     "user_tz": 300
    },
    "id": "ry7OVueZ7b2y",
    "outputId": "f841677c-8bb4-44bd-db7b-4d295c64aff0"
   },
   "outputs": [
    {
     "data": {
      "text/plain": [
       "0.2721417069243156"
      ]
     },
     "execution_count": 234,
     "metadata": {},
     "output_type": "execute_result"
    }
   ],
   "source": [
    "cond = (data.language_preferred != 'English') & (data.marketing_channel == 'House Ads')\n",
    "non_english = data[cond]\n",
    "\n",
    "non_english.is_correct_lang.map({'Yes':1,'No':0}).mean()"
   ]
  },
  {
   "cell_type": "code",
   "execution_count": null,
   "metadata": {
    "colab": {
     "base_uri": "https://localhost:8080/"
    },
    "executionInfo": {
     "elapsed": 135,
     "status": "ok",
     "timestamp": 1637625119548,
     "user": {
      "displayName": "Chuck Lenny",
      "photoUrl": "https://lh3.googleusercontent.com/a/default-user=s64",
      "userId": "18406008629121395867"
     },
     "user_tz": 300
    },
    "id": "T8UmfQHxDuZG",
    "outputId": "7aaab4e1-5f10-4088-ad4c-4591e212bc37"
   },
   "outputs": [
    {
     "data": {
      "text/plain": [
       "0.2721417069243156"
      ]
     },
     "execution_count": 237,
     "metadata": {},
     "output_type": "execute_result"
    }
   ],
   "source": [
    "non_english.is_correct_lang.map({'Yes':1,'No':0}).mean()"
   ]
  },
  {
   "cell_type": "markdown",
   "metadata": {
    "id": "gRZjBFglECbw"
   },
   "source": [
    "# Final Data to Perform AB"
   ]
  },
  {
   "cell_type": "markdown",
   "metadata": {
    "id": "OpN_CmqsE_aE"
   },
   "source": [
    "Remove customers who were given the wrong language"
   ]
  },
  {
   "cell_type": "code",
   "execution_count": null,
   "metadata": {
    "id": "k4tKatwDEHOy"
   },
   "outputs": [],
   "source": [
    "idx = non_english.is_correct_lang.map({'Yes':1,'No':0})\n",
    "idx = idx[idx==1]\n",
    "idx = idx.index"
   ]
  },
  {
   "cell_type": "code",
   "execution_count": null,
   "metadata": {
    "id": "01UMmh7hEUeL"
   },
   "outputs": [],
   "source": [
    "data = data.loc[data.index.difference(idx)]"
   ]
  },
  {
   "cell_type": "code",
   "execution_count": null,
   "metadata": {
    "id": "PHqfXUv8E0Mv"
   },
   "outputs": [],
   "source": [
    "data.to_csv(\"/content/drive/MyDrive/Colab_Notebooks/Projects/AB_Test_Email/data_cleaned.csv\")"
   ]
  }
 ],
 "metadata": {
  "colab": {
   "authorship_tag": "ABX9TyM6KLPrZftWmkBYHA7UkCRT",
   "mount_file_id": "1_IDUfZum-FYUqqnIrABpuLGqzjS7_jJx",
   "name": "Data_Exploration.ipynb",
   "provenance": []
  },
  "kernelspec": {
   "display_name": "Python 3",
   "language": "python",
   "name": "python3"
  },
  "language_info": {
   "codemirror_mode": {
    "name": "ipython",
    "version": 3
   },
   "file_extension": ".py",
   "mimetype": "text/x-python",
   "name": "python",
   "nbconvert_exporter": "python",
   "pygments_lexer": "ipython3",
   "version": "3.8.5"
  }
 },
 "nbformat": 4,
 "nbformat_minor": 4
}
